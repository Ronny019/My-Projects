{
  "nbformat": 4,
  "nbformat_minor": 0,
  "metadata": {
    "colab": {
      "name": "Untitled9.ipynb",
      "provenance": [],
      "collapsed_sections": []
    },
    "kernelspec": {
      "name": "python3",
      "display_name": "Python 3"
    },
    "accelerator": "GPU"
  },
  "cells": [
    {
      "cell_type": "code",
      "metadata": {
        "id": "mxpz8SDzIt1j",
        "colab_type": "code",
        "colab": {}
      },
      "source": [
        "import os\n",
        "import zipfile\n",
        "\n",
        "local_zip = '/tmp/4_pokemons.zip'\n",
        "zip_ref = zipfile.ZipFile(local_zip, 'r')\n",
        "zip_ref.extractall('/tmp/')\n",
        "zip_ref.close()\n"
      ],
      "execution_count": 20,
      "outputs": []
    },
    {
      "cell_type": "code",
      "metadata": {
        "id": "e7g0RikravZf",
        "colab_type": "code",
        "colab": {
          "base_uri": "https://localhost:8080/",
          "height": 1000
        },
        "outputId": "e12dbe32-d855-4226-ec9f-0b62680c3f45"
      },
      "source": [
        "import tensorflow as tf\n",
        "import keras_preprocessing\n",
        "from keras_preprocessing import image\n",
        "from keras_preprocessing.image import ImageDataGenerator\n",
        "\n",
        "TRAINING_DIR = \"/tmp/4_pokemons/train\"\n",
        "training_datagen = ImageDataGenerator(\n",
        "      rescale = 1./255,\n",
        "\t    rotation_range=40,\n",
        "      width_shift_range=0.2,\n",
        "      height_shift_range=0.2,\n",
        "      zoom_range=0.2,\n",
        "      horizontal_flip=True,\n",
        "      fill_mode='nearest')\n",
        "\n",
        "VALIDATION_DIR = \"/tmp/4_pokemons/validation\"\n",
        "validation_datagen = ImageDataGenerator(rescale = 1./255)\n",
        "\n",
        "train_generator = training_datagen.flow_from_directory(\n",
        "\tTRAINING_DIR,\n",
        "\ttarget_size=(200,200),\n",
        "\tclass_mode='categorical',\n",
        "  batch_size=32\n",
        ")\n",
        "\n",
        "validation_generator = validation_datagen.flow_from_directory(\n",
        "\tVALIDATION_DIR,\n",
        "\ttarget_size=(200,200),\n",
        "\tclass_mode='categorical',\n",
        "  batch_size=32\n",
        ")\n",
        "\n",
        "model = tf.keras.models.Sequential([\n",
        "    # Note the input shape is the desired size of the image 150x150 with 3 bytes color\n",
        "    # This is the first convolution\n",
        "    tf.keras.layers.Conv2D(64, (3,3), activation='relu', input_shape=(200, 200, 3)),\n",
        "    tf.keras.layers.MaxPooling2D(2, 2),\n",
        "    # The second convolution\n",
        "    tf.keras.layers.Conv2D(64, (3,3), activation='relu'),\n",
        "    tf.keras.layers.MaxPooling2D(2,2),\n",
        "    # The third convolution\n",
        "    tf.keras.layers.Conv2D(128, (3,3), activation='relu'),\n",
        "    tf.keras.layers.MaxPooling2D(2,2),\n",
        "    # The fourth convolution\n",
        "    tf.keras.layers.Conv2D(128, (3,3), activation='relu'),\n",
        "    tf.keras.layers.MaxPooling2D(2,2),\n",
        "    # Flatten the results to feed into a DNN\n",
        "    tf.keras.layers.Flatten(),\n",
        "    #tf.keras.layers.Dropout(0.2),\n",
        "    tf.keras.layers.Dense(3000,activation='relu'),\n",
        "    #tf.keras.layers.Dropout(0.2),\n",
        "    # 512 neuron hidden layer\n",
        "    tf.keras.layers.Dense(512, activation='relu'),\n",
        "    tf.keras.layers.Dense(4, activation='softmax')\n",
        "])\n",
        "\n",
        "\n",
        "model.summary()\n",
        "\n",
        "adam =tf.keras.optimizers.Adam(learning_rate=0.0001)\n",
        "\n",
        "model.compile(loss = 'categorical_crossentropy', optimizer=adam, metrics=['accuracy'])\n",
        "\n",
        "history = model.fit(train_generator, epochs=25, validation_data = validation_generator)\n",
        "\n",
        "model.save(\"rps.h5\")"
      ],
      "execution_count": 31,
      "outputs": [
        {
          "output_type": "stream",
          "text": [
            "Found 593 images belonging to 4 classes.\n",
            "Found 116 images belonging to 4 classes.\n",
            "Model: \"sequential_9\"\n",
            "_________________________________________________________________\n",
            "Layer (type)                 Output Shape              Param #   \n",
            "=================================================================\n",
            "conv2d_36 (Conv2D)           (None, 198, 198, 64)      1792      \n",
            "_________________________________________________________________\n",
            "max_pooling2d_36 (MaxPooling (None, 99, 99, 64)        0         \n",
            "_________________________________________________________________\n",
            "conv2d_37 (Conv2D)           (None, 97, 97, 64)        36928     \n",
            "_________________________________________________________________\n",
            "max_pooling2d_37 (MaxPooling (None, 48, 48, 64)        0         \n",
            "_________________________________________________________________\n",
            "conv2d_38 (Conv2D)           (None, 46, 46, 128)       73856     \n",
            "_________________________________________________________________\n",
            "max_pooling2d_38 (MaxPooling (None, 23, 23, 128)       0         \n",
            "_________________________________________________________________\n",
            "conv2d_39 (Conv2D)           (None, 21, 21, 128)       147584    \n",
            "_________________________________________________________________\n",
            "max_pooling2d_39 (MaxPooling (None, 10, 10, 128)       0         \n",
            "_________________________________________________________________\n",
            "flatten_9 (Flatten)          (None, 12800)             0         \n",
            "_________________________________________________________________\n",
            "dense_20 (Dense)             (None, 3000)              38403000  \n",
            "_________________________________________________________________\n",
            "dense_21 (Dense)             (None, 512)               1536512   \n",
            "_________________________________________________________________\n",
            "dense_22 (Dense)             (None, 4)                 2052      \n",
            "=================================================================\n",
            "Total params: 40,201,724\n",
            "Trainable params: 40,201,724\n",
            "Non-trainable params: 0\n",
            "_________________________________________________________________\n",
            "Epoch 1/25\n",
            "12/19 [=================>............] - ETA: 6s - loss: 1.0679 - accuracy: 0.6615"
          ],
          "name": "stdout"
        },
        {
          "output_type": "stream",
          "text": [
            "/usr/local/lib/python3.6/dist-packages/PIL/Image.py:932: UserWarning: Palette images with Transparency expressed in bytes should be converted to RGBA images\n",
            "  \"Palette images with Transparency expressed in bytes should be \"\n"
          ],
          "name": "stderr"
        },
        {
          "output_type": "stream",
          "text": [
            "19/19 [==============================] - 20s 1s/step - loss: 1.0104 - accuracy: 0.6745 - val_loss: 0.8071 - val_accuracy: 0.7069\n",
            "Epoch 2/25\n",
            "19/19 [==============================] - 19s 997ms/step - loss: 0.6964 - accuracy: 0.7707 - val_loss: 0.5092 - val_accuracy: 0.8017\n",
            "Epoch 3/25\n",
            "19/19 [==============================] - 19s 1s/step - loss: 0.5386 - accuracy: 0.7875 - val_loss: 0.4111 - val_accuracy: 0.8103\n",
            "Epoch 4/25\n",
            "19/19 [==============================] - 19s 990ms/step - loss: 0.4334 - accuracy: 0.8331 - val_loss: 0.4785 - val_accuracy: 0.8879\n",
            "Epoch 5/25\n",
            "19/19 [==============================] - 18s 953ms/step - loss: 0.4412 - accuracy: 0.8482 - val_loss: 0.6521 - val_accuracy: 0.7759\n",
            "Epoch 6/25\n",
            "19/19 [==============================] - 18s 973ms/step - loss: 0.3914 - accuracy: 0.8550 - val_loss: 0.3213 - val_accuracy: 0.8190\n",
            "Epoch 7/25\n",
            "19/19 [==============================] - 18s 972ms/step - loss: 0.3399 - accuracy: 0.8752 - val_loss: 0.3051 - val_accuracy: 0.8276\n",
            "Epoch 8/25\n",
            "19/19 [==============================] - 19s 983ms/step - loss: 0.3703 - accuracy: 0.8685 - val_loss: 0.5023 - val_accuracy: 0.8103\n",
            "Epoch 9/25\n",
            "19/19 [==============================] - 19s 980ms/step - loss: 0.4011 - accuracy: 0.8415 - val_loss: 0.2181 - val_accuracy: 0.9310\n",
            "Epoch 10/25\n",
            "19/19 [==============================] - 19s 978ms/step - loss: 0.3264 - accuracy: 0.8938 - val_loss: 0.2570 - val_accuracy: 0.9052\n",
            "Epoch 11/25\n",
            "19/19 [==============================] - 18s 940ms/step - loss: 0.2950 - accuracy: 0.9039 - val_loss: 0.2871 - val_accuracy: 0.8793\n",
            "Epoch 12/25\n",
            "19/19 [==============================] - 18s 970ms/step - loss: 0.3068 - accuracy: 0.8938 - val_loss: 0.2541 - val_accuracy: 0.8793\n",
            "Epoch 13/25\n",
            "19/19 [==============================] - 18s 971ms/step - loss: 0.2882 - accuracy: 0.8988 - val_loss: 0.1373 - val_accuracy: 0.9655\n",
            "Epoch 14/25\n",
            "19/19 [==============================] - 18s 962ms/step - loss: 0.2995 - accuracy: 0.9073 - val_loss: 0.1483 - val_accuracy: 0.9569\n",
            "Epoch 15/25\n",
            "19/19 [==============================] - 18s 950ms/step - loss: 0.2738 - accuracy: 0.9123 - val_loss: 0.2077 - val_accuracy: 0.9310\n",
            "Epoch 16/25\n",
            "19/19 [==============================] - 18s 960ms/step - loss: 0.2341 - accuracy: 0.9258 - val_loss: 0.1420 - val_accuracy: 0.9569\n",
            "Epoch 17/25\n",
            "19/19 [==============================] - 18s 944ms/step - loss: 0.2379 - accuracy: 0.9224 - val_loss: 0.1714 - val_accuracy: 0.9655\n",
            "Epoch 18/25\n",
            "19/19 [==============================] - 19s 974ms/step - loss: 0.2361 - accuracy: 0.9275 - val_loss: 0.2650 - val_accuracy: 0.9138\n",
            "Epoch 19/25\n",
            "19/19 [==============================] - 18s 960ms/step - loss: 0.2092 - accuracy: 0.9224 - val_loss: 0.1879 - val_accuracy: 0.9138\n",
            "Epoch 20/25\n",
            "19/19 [==============================] - 18s 967ms/step - loss: 0.2319 - accuracy: 0.9106 - val_loss: 0.1298 - val_accuracy: 0.9655\n",
            "Epoch 21/25\n",
            "19/19 [==============================] - 18s 960ms/step - loss: 0.2489 - accuracy: 0.9022 - val_loss: 0.2188 - val_accuracy: 0.9224\n",
            "Epoch 22/25\n",
            "19/19 [==============================] - 18s 969ms/step - loss: 0.1960 - accuracy: 0.9309 - val_loss: 0.5467 - val_accuracy: 0.8103\n",
            "Epoch 23/25\n",
            "19/19 [==============================] - 18s 964ms/step - loss: 0.1752 - accuracy: 0.9376 - val_loss: 0.1429 - val_accuracy: 0.9483\n",
            "Epoch 24/25\n",
            "19/19 [==============================] - 18s 953ms/step - loss: 0.1887 - accuracy: 0.9393 - val_loss: 0.1361 - val_accuracy: 0.9310\n",
            "Epoch 25/25\n",
            "19/19 [==============================] - 18s 965ms/step - loss: 0.1880 - accuracy: 0.9309 - val_loss: 0.2010 - val_accuracy: 0.9310\n"
          ],
          "name": "stdout"
        }
      ]
    },
    {
      "cell_type": "code",
      "metadata": {
        "id": "For_4U7ChSfV",
        "colab_type": "code",
        "colab": {
          "base_uri": "https://localhost:8080/",
          "height": 34
        },
        "outputId": "aca84d81-984d-480d-8005-88837d541fb3"
      },
      "source": [
        "from google.colab import files\n",
        "files.download('rps.h5')"
      ],
      "execution_count": 32,
      "outputs": [
        {
          "output_type": "display_data",
          "data": {
            "application/javascript": [
              "\n",
              "    async function download(id, filename, size) {\n",
              "      if (!google.colab.kernel.accessAllowed) {\n",
              "        return;\n",
              "      }\n",
              "      const div = document.createElement('div');\n",
              "      const label = document.createElement('label');\n",
              "      label.textContent = `Downloading \"${filename}\": `;\n",
              "      div.appendChild(label);\n",
              "      const progress = document.createElement('progress');\n",
              "      progress.max = size;\n",
              "      div.appendChild(progress);\n",
              "      document.body.appendChild(div);\n",
              "\n",
              "      const buffers = [];\n",
              "      let downloaded = 0;\n",
              "\n",
              "      const channel = await google.colab.kernel.comms.open(id);\n",
              "      // Send a message to notify the kernel that we're ready.\n",
              "      channel.send({})\n",
              "\n",
              "      for await (const message of channel.messages) {\n",
              "        // Send a message to notify the kernel that we're ready.\n",
              "        channel.send({})\n",
              "        if (message.buffers) {\n",
              "          for (const buffer of message.buffers) {\n",
              "            buffers.push(buffer);\n",
              "            downloaded += buffer.byteLength;\n",
              "            progress.value = downloaded;\n",
              "          }\n",
              "        }\n",
              "      }\n",
              "      const blob = new Blob(buffers, {type: 'application/binary'});\n",
              "      const a = document.createElement('a');\n",
              "      a.href = window.URL.createObjectURL(blob);\n",
              "      a.download = filename;\n",
              "      div.appendChild(a);\n",
              "      a.click();\n",
              "      div.remove();\n",
              "    }\n",
              "  "
            ],
            "text/plain": [
              "<IPython.core.display.Javascript object>"
            ]
          },
          "metadata": {
            "tags": []
          }
        },
        {
          "output_type": "display_data",
          "data": {
            "application/javascript": [
              "download(\"download_15e4b0e7-8da7-4c84-9dc7-c4a7854e47a9\", \"rps.h5\", 482491128)"
            ],
            "text/plain": [
              "<IPython.core.display.Javascript object>"
            ]
          },
          "metadata": {
            "tags": []
          }
        }
      ]
    }
  ]
}
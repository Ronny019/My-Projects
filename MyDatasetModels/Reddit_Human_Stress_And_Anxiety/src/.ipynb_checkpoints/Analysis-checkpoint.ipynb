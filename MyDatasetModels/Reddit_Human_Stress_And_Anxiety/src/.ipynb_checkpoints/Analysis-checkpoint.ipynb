{
 "cells": [
  {
   "cell_type": "code",
   "execution_count": 5,
   "id": "2364e3bf",
   "metadata": {},
   "outputs": [],
   "source": [
    "# from sklearn.feature_extraction.text import TfidfVectorizer\n",
    "# corpus = [\n",
    "#      'This is the first document.',\n",
    "#      'This document is the second document.',\n",
    "#     'And this is the third one.',\n",
    "#      'Is this the first document?',\n",
    "#  ]\n",
    "# vectorizer = TfidfVectorizer()\n",
    "# X = vectorizer.fit_transform(corpus)\n",
    "# labels = vectorizer.get_feature_names_out()\n",
    "# print(labels)\n",
    "# print(X)"
   ]
  },
  {
   "cell_type": "code",
   "execution_count": 2,
   "id": "2a5a21e7",
   "metadata": {},
   "outputs": [
    {
     "name": "stdout",
     "output_type": "stream",
     "text": [
      "['He said he had not felt that way before, suggeted I go rest and so ..TRIGGER AHEAD IF YOUI\\'RE A HYPOCONDRIAC LIKE ME: i decide to look up \"feelings of doom\" in hopes of maybe getting sucked into some rabbit hole of ludicrous conspiracy, a stupid \"are you psychic\" test or new age b.s., something I could even laugh at down the road. No, I ended up reading that this sense of doom can be indicative of various health ailments; one of which I am prone to.. So on top of my \"doom\" to my gloom..I am now f\\'n worried about my heart. I do happen to have a physical in 48 hours.'\n",
      " \"Hey there r/assistance, Not sure if this is the right place to post this.. but here goes =) I'm currently a student intern at Sandia National Labs and working on a survey to help improve our marketing outreach efforts at the many schools we recruit at around the country. We're looking for current undergrad/grad STEM students so if you're a STEM student or know STEM students, I would greatly appreciate if you can help take or pass along this short survey. As a thank you, everyone who helps take the survey will be entered in to a drawing for chance to win one of three $50 Amazon gcs.\"\n",
      " 'My mom then hit me with the newspaper and it shocked me that she would do this, she knows I don\\'t like play hitting, smacking, striking, hitting or violence of any sort on my person. Do I send out this vibe asking for it from the universe? Then yesterday I decided to take my friend to go help another \"friend\" move to a new place. While we were driving the friend we are moving strikes me on my shoulder. And I address it immediately because this is the 4th time I have told him not to do these things, then my other friend who is driving nearly gets into an collision with another car i think because he was high on marijuana and the friend we are moving in the backseat is like \"you have to understand I was just trying to get your attention\" you know the thing 5 year olds do to get peoples attention by smacking them, this guy is in his 60\\'s.'\n",
      " ...\n",
      " \"In case this is the first time you're reading this post... We are looking for people who are willing to complete some online questionnaires about employment and well-being which we hope will help us to improve services for assisting people with mental health difficulties to obtain and retain employment. We are developing an employment questionnaire for people with personality disorders; however we are looking for people from all backgrounds to complete it. That means you do not need to have a diagnosis of personality disorder â€“ you just need to have an interest in completing the online questionnaires. The questionnaires will only take about 10 minutes to complete online. For your participation, weâ€™ll donate Â£1 on your behalf to a mental health charity (Young Minds: Child & Adolescent Mental Health, Mental Health Foundation, or Rethink).\"\n",
      " 'Do you find this normal? They have a good relationship. Main problem I have is She will see her mom in a jail jumpsuit She will see other inmates and women behind bars The guards could be intimidating Is that ok for a 15 year old to see? Actually my daughter does not seem scared but instead seems excited and enthusiastic to visit. This is strange to me.'\n",
      " \"I was talking to my mom this morning and she said that about my sister. Her trauma was worse than mine but she didn't develop PTSD. (My mom has no idea I even had a traumatic event) I told her it's not that easy, and she said it just needs to be done. Now I am scared.\"]\n"
     ]
    }
   ],
   "source": [
    "import pandas as pd\n",
    "import numpy as np\n",
    "import matplotlib.pyplot as plt\n",
    "\n",
    "dataset = pd.read_excel(\"../data/Sample Data for Text Analysis.xlsx\", sheet_name=None)\n",
    "\n",
    "\n",
    "def get_data(dataframe):\n",
    "    text_df = dataframe.iloc[:, -1]\n",
    "    return  text_df\n",
    "\n",
    "\n",
    "X_train = pd.DataFrame()\n",
    "y_train = pd.DataFrame()\n",
    "\n",
    "\n",
    "raw_text_df = get_data(dataset['Sample Data'])\n",
    "\n",
    "raw_text_np = raw_text_df.values\n",
    "\n",
    "print(raw_text_np)"
   ]
  },
  {
   "cell_type": "code",
   "execution_count": null,
   "id": "ce489d5a",
   "metadata": {},
   "outputs": [],
   "source": []
  }
 ],
 "metadata": {
  "kernelspec": {
   "display_name": "Python 3 (ipykernel)",
   "language": "python",
   "name": "python3"
  },
  "language_info": {
   "codemirror_mode": {
    "name": "ipython",
    "version": 3
   },
   "file_extension": ".py",
   "mimetype": "text/x-python",
   "name": "python",
   "nbconvert_exporter": "python",
   "pygments_lexer": "ipython3",
   "version": "3.9.5"
  }
 },
 "nbformat": 4,
 "nbformat_minor": 5
}
